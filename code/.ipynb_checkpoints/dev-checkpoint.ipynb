{
 "cells": [
  {
   "cell_type": "code",
   "execution_count": 1,
   "metadata": {},
   "outputs": [],
   "source": [
    "import pandas as pd\n",
    "import warnings\n",
    "import os\n",
    "import gc\n",
    "pd.set_option('display.max_columns', 1_00)\n",
    "warnings.filterwarnings('ignore')"
   ]
  },
  {
   "cell_type": "code",
   "execution_count": 2,
   "metadata": {},
   "outputs": [],
   "source": [
    "RAW_DATA_PATH_ADMISSION = '../raw_data/IDs_mapping.csv'\n",
    "RAW_DATA_PATH_DIABETES  = '../raw_data/diabetic_data.csv'\n",
    "DATA_PATH = '../data'\n",
    "DATA_PATH_MAP = DATA_PATH + '/map_id'"
   ]
  },
  {
   "cell_type": "markdown",
   "metadata": {},
   "source": [
    "# 1. IMPORT"
   ]
  },
  {
   "cell_type": "code",
   "execution_count": 3,
   "metadata": {},
   "outputs": [],
   "source": [
    "df_map = pd.read_csv(RAW_DATA_PATH_ADMISSION)\n",
    "df = pd.read_csv(RAW_DATA_PATH_DIABETES)"
   ]
  },
  {
   "cell_type": "markdown",
   "metadata": {},
   "source": [
    "# 2. TIDY"
   ]
  },
  {
   "cell_type": "markdown",
   "metadata": {},
   "source": [
    "### 2.1. Add descriptions to main dataframe `df` and remove ids"
   ]
  },
  {
   "cell_type": "code",
   "execution_count": 4,
   "metadata": {},
   "outputs": [
    {
     "data": {
      "text/plain": [
       "197"
      ]
     },
     "execution_count": 4,
     "metadata": {},
     "output_type": "execute_result"
    }
   ],
   "source": [
    "# admission types\n",
    "df_admission = df_map[:8]\n",
    "df_discharge = df_map[10:40].rename(columns = {'admission_type_id':'discharge_disposition_id'})\n",
    "df_admission_source = df_map[42:66].rename(columns = {'admission_type_id': 'admission_source_id'})\n",
    "df_admission.iloc[:,0] = df_admission.iloc[:,0].astype(int)\n",
    "df_discharge.iloc[:,0] = df_discharge.iloc[:,0].astype(int)\n",
    "df_admission_source.iloc[:,0] = df_admission_source.iloc[:,0].astype(int)\n",
    "df_admission.rename(columns = {'description': 'admission_type'},inplace=True)\n",
    "df_discharge.rename(columns = {'description': 'discharge_disposition'},inplace=True)\n",
    "df_admission_source.rename(columns = {'description': 'admission_source'},inplace=True)\n",
    "\n",
    "# clean columns in df\n",
    "df.columns = list(map(lambda i: i.lower().replace('-','_'), df.columns))\n",
    "\n",
    "# merge with maps ids\n",
    "df = df.merge(df_admission, on = 'admission_type_id', how='left')\n",
    "df = df.merge(df_discharge, on = 'discharge_disposition_id', how='left')\n",
    "df = df.merge(df_admission_source, on = 'admission_source_id', how='left')\n",
    "\n",
    "# remove description columns\n",
    "df.drop(['admission_type_id', 'discharge_disposition_id', 'admission_source_id'], axis=1, inplace=True)\n",
    "\n",
    "# drop duplicates\n",
    "df = df.drop_duplicates().reset_index(drop=True)\n",
    "\n",
    "# save\n",
    "df.to_csv(os.path.join(DATA_PATH, 'diabetes_tidy.csv'), index=False)\n",
    "\n",
    "# free memory\n",
    "del df_discharge, df_admission, df_admission_source\n",
    "gc.collect()"
   ]
  },
  {
   "cell_type": "markdown",
   "metadata": {},
   "source": [
    "### 2.2 Create a dataset in DATA_PATH_MAP with all map dataframe to map description and ids"
   ]
  },
  {
   "cell_type": "code",
   "execution_count": 5,
   "metadata": {},
   "outputs": [],
   "source": [
    "def df_id_map(df, column):\n",
    "    aux = pd.DataFrame(df[column].value_counts().index, columns=[column])\n",
    "    aux[f'{column}_id'] = list(range(1,len(aux)+1))\n",
    "    return aux\n",
    "\n",
    "def create_maps(df, columns, data_path):\n",
    "    map_dict = {i:df_id_map(df,i) for i in columns}\n",
    "    # save map dict\n",
    "    for k, v in map_dict.items():\n",
    "        v.to_csv(os.path.join(data_path, f'{k}.csv'), index=False)"
   ]
  },
  {
   "cell_type": "code",
   "execution_count": 6,
   "metadata": {},
   "outputs": [],
   "source": [
    "create_maps(df, list(df.select_dtypes('object').columns), DATA_PATH_MAP)"
   ]
  },
  {
   "cell_type": "markdown",
   "metadata": {},
   "source": [
    "### 2.3. Apply the mapping system created to the main dataframe `df`"
   ]
  },
  {
   "cell_type": "code",
   "execution_count": 7,
   "metadata": {},
   "outputs": [],
   "source": [
    "def apply_map_id(df, data_path):\n",
    "    data_maps = list(map(lambda i: os.path.join(data_path,i),os.listdir(data_path)))\n",
    "    for i in data_maps:\n",
    "        aux = pd.read_csv(i)\n",
    "        id_col = list(filter(lambda i:i.endswith('_id'), aux.columns))[0]\n",
    "        on_col = list(set(aux.columns).difference(set([id_col])))[0]\n",
    "        aux[id_col] = aux[id_col].astype(int)\n",
    "        df = df.merge(aux,on=on_col, how='left')\n",
    "        df.drop(on_col, axis=1, inplace = True)\n",
    "        df[id_col] = df[id_col].fillna(0)\n",
    "        df[id_col] = df[id_col].astype(int)\n",
    "    return df"
   ]
  },
  {
   "cell_type": "code",
   "execution_count": 8,
   "metadata": {},
   "outputs": [],
   "source": [
    "df = apply_map_id(df, DATA_PATH_MAP)"
   ]
  },
  {
   "cell_type": "code",
   "execution_count": 9,
   "metadata": {},
   "outputs": [
    {
     "data": {
      "text/plain": [
       "encounter_id                   int64\n",
       "patient_nbr                    int64\n",
       "time_in_hospital               int64\n",
       "num_lab_procedures             int64\n",
       "num_procedures                 int64\n",
       "num_medications                int64\n",
       "number_outpatient              int64\n",
       "number_emergency               int64\n",
       "number_inpatient               int64\n",
       "number_diagnoses               int64\n",
       "rosiglitazone_id               int64\n",
       "acetohexamide_id               int64\n",
       "a1cresult_id                   int64\n",
       "citoglipton_id                 int64\n",
       "age_id                         int64\n",
       "gender_id                      int64\n",
       "glipizide_metformin_id         int64\n",
       "miglitol_id                    int64\n",
       "metformin_id                   int64\n",
       "tolbutamide_id                 int64\n",
       "nateglinide_id                 int64\n",
       "acarbose_id                    int64\n",
       "admission_type_id              int64\n",
       "pioglitazone_id                int64\n",
       "weight_id                      int64\n",
       "readmitted_id                  int64\n",
       "troglitazone_id                int64\n",
       "glyburide_id                   int64\n",
       "chlorpropamide_id              int64\n",
       "insulin_id                     int64\n",
       "diabetesmed_id                 int64\n",
       "metformin_rosiglitazone_id     int64\n",
       "diag_1_id                      int64\n",
       "diag_2_id                      int64\n",
       "change_id                      int64\n",
       "diag_3_id                      int64\n",
       "payer_code_id                  int64\n",
       "glimepiride_pioglitazone_id    int64\n",
       "medical_specialty_id           int64\n",
       "glipizide_id                   int64\n",
       "examide_id                     int64\n",
       "discharge_disposition_id       int64\n",
       "race_id                        int64\n",
       "repaglinide_id                 int64\n",
       "max_glu_serum_id               int64\n",
       "admission_source_id            int64\n",
       "tolazamide_id                  int64\n",
       "glyburide_metformin_id         int64\n",
       "metformin_pioglitazone_id      int64\n",
       "glimepiride_id                 int64\n",
       "dtype: object"
      ]
     },
     "execution_count": 9,
     "metadata": {},
     "output_type": "execute_result"
    }
   ],
   "source": [
    "df.dtypes"
   ]
  },
  {
   "cell_type": "code",
   "execution_count": 77,
   "metadata": {},
   "outputs": [],
   "source": []
  },
  {
   "cell_type": "code",
   "execution_count": null,
   "metadata": {},
   "outputs": [],
   "source": []
  }
 ],
 "metadata": {
  "kernelspec": {
   "display_name": "Python 3",
   "language": "python",
   "name": "python3"
  },
  "language_info": {
   "codemirror_mode": {
    "name": "ipython",
    "version": 3
   },
   "file_extension": ".py",
   "mimetype": "text/x-python",
   "name": "python",
   "nbconvert_exporter": "python",
   "pygments_lexer": "ipython3",
   "version": "3.8.5"
  }
 },
 "nbformat": 4,
 "nbformat_minor": 4
}
