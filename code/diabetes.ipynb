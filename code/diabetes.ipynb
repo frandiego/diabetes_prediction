{
 "cells": [
  {
   "cell_type": "code",
   "execution_count": 1,
   "metadata": {},
   "outputs": [],
   "source": [
    "from plotnine import *\n",
    "import pandas as pd\n",
    "import numpy as np\n",
    "import warnings\n",
    "import os\n",
    "import gc\n",
    "\n",
    "pd.set_option('display.max_columns', 1_00)\n",
    "warnings.filterwarnings('ignore')"
   ]
  },
  {
   "cell_type": "code",
   "execution_count": 2,
   "metadata": {},
   "outputs": [],
   "source": [
    "RAW_DATA_PATH_ADMISSION = '../raw_data/IDs_mapping.csv'\n",
    "RAW_DATA_PATH_DIABETES  = '../raw_data/diabetic_data.csv'\n",
    "DATA_PATH = '../data'\n",
    "DATA_PATH_MAP = DATA_PATH + '/map_id'"
   ]
  },
  {
   "cell_type": "markdown",
   "metadata": {},
   "source": [
    "# 1. IMPORT"
   ]
  },
  {
   "cell_type": "code",
   "execution_count": 3,
   "metadata": {},
   "outputs": [],
   "source": [
    "df_map = pd.read_csv(RAW_DATA_PATH_ADMISSION)\n",
    "df = pd.read_csv(RAW_DATA_PATH_DIABETES)"
   ]
  },
  {
   "cell_type": "markdown",
   "metadata": {},
   "source": [
    "# 2. TIDY"
   ]
  },
  {
   "cell_type": "markdown",
   "metadata": {},
   "source": [
    "### 2.1. Add descriptions to main dataframe `df` and remove ids"
   ]
  },
  {
   "cell_type": "code",
   "execution_count": 4,
   "metadata": {},
   "outputs": [
    {
     "data": {
      "text/plain": [
       "0"
      ]
     },
     "execution_count": 4,
     "metadata": {},
     "output_type": "execute_result"
    }
   ],
   "source": [
    "# admission types\n",
    "df_admission = df_map[:8]\n",
    "df_discharge = df_map[10:40].rename(columns = {'admission_type_id':'discharge_disposition_id'})\n",
    "df_admission_source = df_map[42:66].rename(columns = {'admission_type_id': 'admission_source_id'})\n",
    "df_admission.iloc[:,0] = df_admission.iloc[:,0].astype(int)\n",
    "df_discharge.iloc[:,0] = df_discharge.iloc[:,0].astype(int)\n",
    "df_admission_source.iloc[:,0] = df_admission_source.iloc[:,0].astype(int)\n",
    "df_admission.rename(columns = {'description': 'admission_type'},inplace=True)\n",
    "df_discharge.rename(columns = {'description': 'discharge_disposition'},inplace=True)\n",
    "df_admission_source.rename(columns = {'description': 'admission_source'},inplace=True)\n",
    "\n",
    "# clean columns in df\n",
    "df.columns = list(map(lambda i: i.lower().replace('-','_'), df.columns))\n",
    "\n",
    "# merge with maps ids\n",
    "df = df.merge(df_admission, on = 'admission_type_id', how='left')\n",
    "df = df.merge(df_discharge, on = 'discharge_disposition_id', how='left')\n",
    "df = df.merge(df_admission_source, on = 'admission_source_id', how='left')\n",
    "\n",
    "# remove description columns\n",
    "df.drop(['admission_type_id', 'discharge_disposition_id', 'admission_source_id'], axis=1, inplace=True)\n",
    "\n",
    "# drop duplicates\n",
    "df = df.drop_duplicates().reset_index(drop=True)\n",
    "\n",
    "# save\n",
    "df.to_csv(os.path.join(DATA_PATH, 'diabetes_tidy.csv'), index=False)\n",
    "\n",
    "# free memory\n",
    "del df_discharge, df_admission, df_admission_source\n",
    "gc.collect()"
   ]
  },
  {
   "cell_type": "markdown",
   "metadata": {},
   "source": [
    "### 2.2 Create a dataset in DATA_PATH_MAP with all map dataframe to map description and ids"
   ]
  },
  {
   "cell_type": "code",
   "execution_count": 5,
   "metadata": {},
   "outputs": [],
   "source": [
    "def df_id_map(df, column):\n",
    "    aux = pd.DataFrame(df[column].value_counts().index, columns=[column])\n",
    "    aux[f'{column}_id'] = list(range(1,len(aux)+1))\n",
    "    return aux\n",
    "\n",
    "def create_maps(df, columns, data_path):\n",
    "    map_dict = {i:df_id_map(df,i) for i in columns}\n",
    "    # save map dict\n",
    "    for k, v in map_dict.items():\n",
    "        v.to_csv(os.path.join(data_path, f'{k}.csv'), index=False)"
   ]
  },
  {
   "cell_type": "code",
   "execution_count": 6,
   "metadata": {},
   "outputs": [],
   "source": [
    "create_maps(df, list(df.select_dtypes('object').columns), DATA_PATH_MAP)"
   ]
  },
  {
   "cell_type": "markdown",
   "metadata": {},
   "source": [
    "### 2.3. Apply the mapping system created to the main dataframe `df`"
   ]
  },
  {
   "cell_type": "code",
   "execution_count": 7,
   "metadata": {},
   "outputs": [],
   "source": [
    "def apply_map_id(df, data_path):\n",
    "    data_maps = list(map(lambda i: os.path.join(data_path,i),os.listdir(data_path)))\n",
    "    for i in data_maps:\n",
    "        aux = pd.read_csv(i)\n",
    "        id_col = list(filter(lambda i:i.endswith('_id'), aux.columns))[0]\n",
    "        on_col = list(set(aux.columns).difference(set([id_col])))[0]\n",
    "        aux[id_col] = aux[id_col].astype(int)\n",
    "        df = df.merge(aux,on=on_col, how='left')\n",
    "        df.drop(on_col, axis=1, inplace = True)\n",
    "        df[id_col] = df[id_col].fillna(0)\n",
    "        df[id_col] = df[id_col].astype(int)\n",
    "    return df"
   ]
  },
  {
   "cell_type": "code",
   "execution_count": 8,
   "metadata": {},
   "outputs": [],
   "source": [
    "df_tidy = apply_map_id(df, DATA_PATH_MAP)"
   ]
  },
  {
   "cell_type": "code",
   "execution_count": 9,
   "metadata": {},
   "outputs": [
    {
     "data": {
      "text/plain": [
       "encounter_id                   int64\n",
       "patient_nbr                    int64\n",
       "time_in_hospital               int64\n",
       "num_lab_procedures             int64\n",
       "num_procedures                 int64\n",
       "num_medications                int64\n",
       "number_outpatient              int64\n",
       "number_emergency               int64\n",
       "number_inpatient               int64\n",
       "number_diagnoses               int64\n",
       "rosiglitazone_id               int64\n",
       "acetohexamide_id               int64\n",
       "a1cresult_id                   int64\n",
       "citoglipton_id                 int64\n",
       "age_id                         int64\n",
       "gender_id                      int64\n",
       "glipizide_metformin_id         int64\n",
       "miglitol_id                    int64\n",
       "metformin_id                   int64\n",
       "tolbutamide_id                 int64\n",
       "nateglinide_id                 int64\n",
       "acarbose_id                    int64\n",
       "admission_type_id              int64\n",
       "pioglitazone_id                int64\n",
       "weight_id                      int64\n",
       "readmitted_id                  int64\n",
       "troglitazone_id                int64\n",
       "glyburide_id                   int64\n",
       "chlorpropamide_id              int64\n",
       "insulin_id                     int64\n",
       "diabetesmed_id                 int64\n",
       "metformin_rosiglitazone_id     int64\n",
       "diag_1_id                      int64\n",
       "diag_2_id                      int64\n",
       "change_id                      int64\n",
       "diag_3_id                      int64\n",
       "payer_code_id                  int64\n",
       "glimepiride_pioglitazone_id    int64\n",
       "medical_specialty_id           int64\n",
       "glipizide_id                   int64\n",
       "examide_id                     int64\n",
       "discharge_disposition_id       int64\n",
       "race_id                        int64\n",
       "repaglinide_id                 int64\n",
       "max_glu_serum_id               int64\n",
       "admission_source_id            int64\n",
       "tolazamide_id                  int64\n",
       "glyburide_metformin_id         int64\n",
       "metformin_pioglitazone_id      int64\n",
       "glimepiride_id                 int64\n",
       "dtype: object"
      ]
     },
     "execution_count": 9,
     "metadata": {},
     "output_type": "execute_result"
    }
   ],
   "source": [
    "df_tidy.dtypes"
   ]
  },
  {
   "cell_type": "code",
   "execution_count": 10,
   "metadata": {},
   "outputs": [],
   "source": [
    "# save it\n",
    "df_tidy.to_csv(os.path.join(DATA_PATH, 'diabetes_integers.csv'), index=False)"
   ]
  },
  {
   "cell_type": "markdown",
   "metadata": {},
   "source": [
    "# 3. Explore"
   ]
  },
  {
   "cell_type": "markdown",
   "metadata": {},
   "source": [
    "### 3.1 Remove some columns with high missing values [`weight`, `payer_code`, `medical_specialty`]"
   ]
  },
  {
   "cell_type": "code",
   "execution_count": 11,
   "metadata": {},
   "outputs": [
    {
     "data": {
      "text/html": [
       "<div>\n",
       "<style scoped>\n",
       "    .dataframe tbody tr th:only-of-type {\n",
       "        vertical-align: middle;\n",
       "    }\n",
       "\n",
       "    .dataframe tbody tr th {\n",
       "        vertical-align: top;\n",
       "    }\n",
       "\n",
       "    .dataframe thead th {\n",
       "        text-align: right;\n",
       "    }\n",
       "</style>\n",
       "<table border=\"1\" class=\"dataframe\">\n",
       "  <thead>\n",
       "    <tr style=\"text-align: right;\">\n",
       "      <th></th>\n",
       "      <th>variable</th>\n",
       "      <th>value</th>\n",
       "    </tr>\n",
       "  </thead>\n",
       "  <tbody>\n",
       "    <tr>\n",
       "      <th>0</th>\n",
       "      <td>race</td>\n",
       "      <td>0.022336</td>\n",
       "    </tr>\n",
       "    <tr>\n",
       "      <th>1</th>\n",
       "      <td>weight</td>\n",
       "      <td>0.968585</td>\n",
       "    </tr>\n",
       "    <tr>\n",
       "      <th>2</th>\n",
       "      <td>payer_code</td>\n",
       "      <td>0.395574</td>\n",
       "    </tr>\n",
       "    <tr>\n",
       "      <th>3</th>\n",
       "      <td>medical_specialty</td>\n",
       "      <td>0.490822</td>\n",
       "    </tr>\n",
       "    <tr>\n",
       "      <th>4</th>\n",
       "      <td>diag_1</td>\n",
       "      <td>0.000206</td>\n",
       "    </tr>\n",
       "    <tr>\n",
       "      <th>5</th>\n",
       "      <td>diag_2</td>\n",
       "      <td>0.003518</td>\n",
       "    </tr>\n",
       "    <tr>\n",
       "      <th>6</th>\n",
       "      <td>diag_3</td>\n",
       "      <td>0.013983</td>\n",
       "    </tr>\n",
       "  </tbody>\n",
       "</table>\n",
       "</div>"
      ],
      "text/plain": [
       "            variable     value\n",
       "0               race  0.022336\n",
       "1             weight  0.968585\n",
       "2         payer_code  0.395574\n",
       "3  medical_specialty  0.490822\n",
       "4             diag_1  0.000206\n",
       "5             diag_2  0.003518\n",
       "6             diag_3  0.013983"
      ]
     },
     "execution_count": 11,
     "metadata": {},
     "output_type": "execute_result"
    }
   ],
   "source": [
    "missing_values = {i : (df[i] == '?').mean() for i  in df.columns}\n",
    "missing_values = {k:v for k,v in missing_values.items() if v>0}\n",
    "pd.DataFrame.from_dict([missing_values]).melt()"
   ]
  },
  {
   "cell_type": "code",
   "execution_count": 12,
   "metadata": {},
   "outputs": [],
   "source": [
    "df_tidy.drop(['weight_id', 'payer_code_id', 'medical_specialty_id'],axis=1,inplace=True)"
   ]
  },
  {
   "cell_type": "markdown",
   "metadata": {},
   "source": [
    "### 3.2 Categorical values\n",
    "As we can see in the next picture, the univariant effeect of categorical variables has no impact to clasiffy an observation as readmitted or not. The frequentist analysis of those categories shows that the percentage of each value of each category are quite close to be 50%"
   ]
  },
  {
   "cell_type": "markdown",
   "metadata": {},
   "source": [
    "<img src=\"../img/categorical_univariant_effect.png\" width=800 height=800 />\n"
   ]
  },
  {
   "cell_type": "markdown",
   "metadata": {},
   "source": [
    "### 3.2 Numerical values\n",
    "Those density plots are easy to explain. the variables have negative imapact, I mean, the more the worse, the more medication yo need, the more prob. to be readmitted, the more time in hostpital, the more prob. to be readmitted. \n",
    "So when the X increase the density graph green (be readmitted) is higher than de density of red (not). \n",
    "But as we can see those numerical variables has not much power to classify"
   ]
  },
  {
   "cell_type": "markdown",
   "metadata": {},
   "source": [
    "<img src=\"../img/density_numerics.png\" width=800 height=800 />\n"
   ]
  },
  {
   "cell_type": "markdown",
   "metadata": {},
   "source": [
    "### 3.2 High cardinality categories\n",
    "When categorical variables have many categories, we call them high cardinality categorical variables. It is usually difficult to work with them, a trick is to find that category that hides more information, that is, that has more predictive capacity. For this we can use the standard deviation in the frequency of appearance in readmitted (1) or not (0) and we see that there are certain categories with a lot of classification capacity. Good news. \n"
   ]
  },
  {
   "cell_type": "markdown",
   "metadata": {},
   "source": [
    "<img src=\"../img/high_categorical.png\" width=800 height=800 />\n"
   ]
  },
  {
   "cell_type": "markdown",
   "metadata": {},
   "source": [
    "# 4. Transform\n",
    "\n",
    "I have created two sklearn transfomer classes , \n",
    "* one that allows the calculation of the weigth of evidence `WeighOfEvidence` , \n",
    "* another that acts as a wrapper between the different weight of evidence and RobustScaler `Transformer`"
   ]
  },
  {
   "cell_type": "code",
   "execution_count": 13,
   "metadata": {},
   "outputs": [],
   "source": [
    "from sklearn.preprocessing import RobustScaler\n",
    "\n",
    "class WeighOfEvidence:\n",
    "    \n",
    "    def __init__(self, categorical_colums, function = 'mean', preffix = 'woe'):\n",
    "        cc = categorical_colums\n",
    "        self.categorical_colums = cc if isinstance(cc, list) else [cc]\n",
    "        self.function = function\n",
    "        self.preffix = str(preffix)\n",
    "        \n",
    "    \n",
    "    @staticmethod\n",
    "    def mapper(df, by, category_col, value_col):\n",
    "        categories = df[by].unique()\n",
    "        return {j:{i.value:i.n for i in df.loc[df[by]==j,[category_col,value_col]].itertuples()} for j in categories}\n",
    "\n",
    "    def weight_of_evidence_fit(self, df, by, categorical_colums, function='mean'):\n",
    "        df  =pd.concat([X,pd.DataFrame(y.values, columns=['by'])],axis=1)\n",
    "        df_long = df[categorical_colums + ['by']].melt('by')\n",
    "        woe =  df_long.groupby(['variable','value']).agg(n=('by' ,function)).reset_index()\n",
    "        return self.mapper(woe, 'variable', 'value', 'n')\n",
    "    \n",
    "    @staticmethod\n",
    "    def weight_of_evidence_transform(df, weight_of_evidence_fitted, preffix='woe'):\n",
    "        for k,v in weight_of_evidence_fitted.items():\n",
    "            df[f'{preffix}_{k}'] = df[k].map(v)\n",
    "            df[f'{preffix}_{k}'] = df[f'{preffix}_{k}'].fillna(0)\n",
    "        return df\n",
    "    \n",
    "        \n",
    "    def fit(self, X=None, y=None):\n",
    "        self.weight_of_evidence = self.weight_of_evidence_fit(X, \n",
    "                                                              y ,\n",
    "                                                              self.categorical_colums, \n",
    "                                                              self.function)\n",
    "        self.columns = list(map(lambda i:f'{self.preffix}_{i}',self.weight_of_evidence.keys()))\n",
    "        return self\n",
    "    \n",
    "    def transform(self, X):\n",
    "        return self.weight_of_evidence_transform(X, self.weight_of_evidence, self.preffix)\n",
    "    \n",
    "    \n",
    "    def fit_transform(self, X=None, y=None):\n",
    "        return self.fit(X, y).transform(X)\n",
    "    \n",
    "    \n",
    "class Transformer:\n",
    "    def __init__(self, \n",
    "                 numeric_columns, \n",
    "                 woe_colums, \n",
    "                 woe_by , \n",
    "                 scaler = RobustScaler(),\n",
    "                 woe_function = 'mean', \n",
    "                 woe_preffix = 'woe'):\n",
    "        self.weigh_of_evidence = WeighOfEvidence(woe_colums, woe_function, woe_preffix)\n",
    "        self.scaler = scaler\n",
    "        self.scale_columns = numeric_columns\n",
    "\n",
    "        \n",
    "    def fit(self, X, y=None):\n",
    "        self.weigh_of_evidence.fit(X, y)\n",
    "        if self.scaler != None:\n",
    "            self.scale_columns += self.weigh_of_evidence.columns\n",
    "            df = self.weigh_of_evidence.transform(X)\n",
    "            self.scaler.fit(df[self.scale_columns])\n",
    "        return self\n",
    "        \n",
    "\n",
    "    def transform(self, X):\n",
    "        df =  self.weigh_of_evidence.transform(X)\n",
    "        if self.scaler != None:\n",
    "            matrix = self.scaler.transform(df[self.scale_columns])\n",
    "            df = pd.DataFrame(matrix, columns=self.scale_columns)\n",
    "        return df[list(np.unique(df.columns))]\n",
    "    \n",
    "    def fit_transform(self, X=None, y=None):\n",
    "        return self.fit(X, y).transform(X)\n",
    "            "
   ]
  },
  {
   "cell_type": "markdown",
   "metadata": {},
   "source": [
    "### 4.1 Split of X and y using numerical features & categorical features and the creation of a binary label `readmitted_binary` that will be 1 if `readmitted` is <30 or >=30 and 0 if `readmitted` is NO"
   ]
  },
  {
   "cell_type": "code",
   "execution_count": 14,
   "metadata": {},
   "outputs": [],
   "source": [
    "numerical_features   = ['time_in_hospital', 'num_lab_procedures', 'num_procedures', 'num_medications', \n",
    "                        'number_outpatient', 'number_emergency', 'number_diagnoses']\n",
    "indexes_columns      = ['encounter_id', 'patient_nbr']\n",
    "label_column         = ['readmitted_id']\n",
    "label_binary_column  = ['readmitted_binary']\n",
    "non_categorical_cols = numerical_features + indexes_columns + label_column + label_binary_column\n",
    "categorical_features = [i for i in df_tidy.columns if i not in non_categorical_cols]"
   ]
  },
  {
   "cell_type": "code",
   "execution_count": 15,
   "metadata": {},
   "outputs": [],
   "source": [
    "df_tidy['readmitted_binary'] = np.where(df_tidy['readmitted_id']==1,0,1)"
   ]
  },
  {
   "cell_type": "code",
   "execution_count": 16,
   "metadata": {},
   "outputs": [],
   "source": [
    "X = df_tidy[categorical_features+numerical_features]\n",
    "y = df_tidy[label_binary_column]"
   ]
  },
  {
   "cell_type": "markdown",
   "metadata": {},
   "source": [
    "# 5 Model"
   ]
  },
  {
   "cell_type": "markdown",
   "metadata": {},
   "source": [
    "## 5.1 Create the pipeline using the previous transformer"
   ]
  },
  {
   "cell_type": "code",
   "execution_count": 17,
   "metadata": {},
   "outputs": [],
   "source": [
    "from sklearn.metrics import make_scorer, accuracy_score, recall_score, precision_score, f1_score\n",
    "from lightgbm.sklearn import LGBMClassifier\n",
    "from sklearn.model_selection import cross_validate\n",
    "from sklearn.pipeline import make_pipeline"
   ]
  },
  {
   "cell_type": "code",
   "execution_count": 18,
   "metadata": {},
   "outputs": [],
   "source": [
    "def plot_cv(cv_score):\n",
    "    df_cv_score = pd.DataFrame(cv_score).drop(['fit_time', 'score_time'],axis=1).reset_index().melt('index')\n",
    "    df_cv_score['test'] = df_cv_score['variable'].map(lambda i: 1 if 'test_' in i else 0)\n",
    "    df_cv_score['metric'] = df_cv_score['variable'].replace('test_|train_','',regex=True)\n",
    "    df_cv_score.drop('variable',axis=1,inplace=True)\n",
    "    return ggplot(df_cv_score,aes(x='index', y='value', fill='factor(test)')) +\\\n",
    "                geom_col(position='dodge') + facet_wrap('metric',scales='free') +\\\n",
    "                coord_flip(), df_cv_score"
   ]
  },
  {
   "cell_type": "code",
   "execution_count": 19,
   "metadata": {},
   "outputs": [],
   "source": [
    "scoring_dict = {'accuracy': make_scorer(accuracy_score), \n",
    "                'f1_micro':make_scorer(lambda y_true, y_pred: f1_score(y_true, y_pred, average='micro')), \n",
    "                'precision': make_scorer(lambda y_true, y_pred: precision_score(y_true, y_pred, average='micro')),\n",
    "                'recall': make_scorer(lambda y_true, y_pred: recall_score(y_true, y_pred, average='micro'))}"
   ]
  },
  {
   "cell_type": "code",
   "execution_count": 20,
   "metadata": {},
   "outputs": [],
   "source": [
    "transformer = Transformer(numerical_features,\n",
    "                          categorical_features,\n",
    "                          label_binary_column)\n",
    "model = LGBMClassifier(boosting_type='dart',\n",
    "                       objective = 'binary',\n",
    "                       n_estimators=100,\n",
    "                       reg_alpha = 2, \n",
    "                       reg_lambda = 2)"
   ]
  },
  {
   "cell_type": "code",
   "execution_count": 21,
   "metadata": {},
   "outputs": [],
   "source": [
    "pipeline = make_pipeline(transformer, model)"
   ]
  },
  {
   "cell_type": "markdown",
   "metadata": {},
   "source": [
    "## 5.2 Cross validation"
   ]
  },
  {
   "cell_type": "code",
   "execution_count": 22,
   "metadata": {},
   "outputs": [
    {
     "name": "stdout",
     "output_type": "stream",
     "text": [
      "CPU times: user 1min 22s, sys: 1.98 s, total: 1min 24s\n",
      "Wall time: 10.9 s\n"
     ]
    }
   ],
   "source": [
    "%%time\n",
    "cv_score = cross_validate(pipeline, X, y ,cv=5,scoring=scoring_dict,return_train_score=True) "
   ]
  },
  {
   "cell_type": "code",
   "execution_count": 23,
   "metadata": {},
   "outputs": [],
   "source": [
    "plot, df_cv = plot_cv(cv_score)"
   ]
  },
  {
   "cell_type": "code",
   "execution_count": 24,
   "metadata": {},
   "outputs": [
    {
     "data": {
      "image/png": "[encoded data removed]",
      "text/plain": [
       "<Figure size 640x480 with 4 Axes>"
      ]
     },
     "metadata": {},
     "output_type": "display_data"
    },
    {
     "data": {
      "text/plain": [
       "<ggplot: (376360244)>"
      ]
     },
     "execution_count": 24,
     "metadata": {},
     "output_type": "execute_result"
    }
   ],
   "source": [
    "plot"
   ]
  },
  {
   "cell_type": "code",
   "execution_count": 25,
   "metadata": {},
   "outputs": [
    {
     "data": {
      "text/html": [
       "<div>\n",
       "<style scoped>\n",
       "    .dataframe tbody tr th:only-of-type {\n",
       "        vertical-align: middle;\n",
       "    }\n",
       "\n",
       "    .dataframe tbody tr th {\n",
       "        vertical-align: top;\n",
       "    }\n",
       "\n",
       "    .dataframe thead th {\n",
       "        text-align: right;\n",
       "    }\n",
       "</style>\n",
       "<table border=\"1\" class=\"dataframe\">\n",
       "  <thead>\n",
       "    <tr style=\"text-align: right;\">\n",
       "      <th></th>\n",
       "      <th>metric</th>\n",
       "      <th>n</th>\n",
       "    </tr>\n",
       "  </thead>\n",
       "  <tbody>\n",
       "    <tr>\n",
       "      <th>0</th>\n",
       "      <td>accuracy</td>\n",
       "      <td>0.657004</td>\n",
       "    </tr>\n",
       "    <tr>\n",
       "      <th>1</th>\n",
       "      <td>f1_micro</td>\n",
       "      <td>0.657004</td>\n",
       "    </tr>\n",
       "    <tr>\n",
       "      <th>2</th>\n",
       "      <td>precision</td>\n",
       "      <td>0.657004</td>\n",
       "    </tr>\n",
       "    <tr>\n",
       "      <th>3</th>\n",
       "      <td>recall</td>\n",
       "      <td>0.657004</td>\n",
       "    </tr>\n",
       "  </tbody>\n",
       "</table>\n",
       "</div>"
      ],
      "text/plain": [
       "      metric         n\n",
       "0   accuracy  0.657004\n",
       "1   f1_micro  0.657004\n",
       "2  precision  0.657004\n",
       "3     recall  0.657004"
      ]
     },
     "execution_count": 25,
     "metadata": {},
     "output_type": "execute_result"
    }
   ],
   "source": [
    "df_cv.groupby(['metric']).agg(n=('value','mean')).reset_index()"
   ]
  },
  {
   "cell_type": "markdown",
   "metadata": {},
   "source": [
    "## 5.3 ROC Curve and evaluation"
   ]
  },
  {
   "cell_type": "code",
   "execution_count": 26,
   "metadata": {},
   "outputs": [],
   "source": [
    "from sklearn.model_selection import train_test_split"
   ]
  },
  {
   "cell_type": "code",
   "execution_count": 27,
   "metadata": {},
   "outputs": [],
   "source": [
    "X_train, X_test, y_train, y_test = train_test_split(X,y,stratify=y, random_state=42)"
   ]
  },
  {
   "cell_type": "code",
   "execution_count": 28,
   "metadata": {},
   "outputs": [],
   "source": [
    "pipeline.fit(X_train, y_train)\n",
    "y_pred = pipeline.predict(X_test)"
   ]
  },
  {
   "cell_type": "code",
   "execution_count": 29,
   "metadata": {},
   "outputs": [
    {
     "data": {
      "image/png": "[encoded data removed]",
      "text/plain": [
       "<Figure size 576x396 with 1 Axes>"
      ]
     },
     "metadata": {},
     "output_type": "display_data"
    },
    {
     "data": {
      "text/plain": [
       "<AxesSubplot:title={'center':'ROC Curves for LGBMClassifier'}, xlabel='False Positive Rate', ylabel='True Postive Rate'>"
      ]
     },
     "execution_count": 29,
     "metadata": {},
     "output_type": "execute_result"
    }
   ],
   "source": [
    "from yellowbrick.classifier import ROCAUC\n",
    "\n",
    "visualizer = ROCAUC(pipeline, classes=[0,1])\n",
    "\n",
    "visualizer.fit(X_train, y_train)        \n",
    "visualizer.score(X_test, y_test)       \n",
    "visualizer.show()       "
   ]
  },
  {
   "cell_type": "code",
   "execution_count": 30,
   "metadata": {},
   "outputs": [
    {
     "name": "stdout",
     "output_type": "stream",
     "text": [
      "              precision    recall  f1-score   support\n",
      "\n",
      "           0       0.72      0.67      0.69     14769\n",
      "           1       0.58      0.64      0.61     10673\n",
      "\n",
      "    accuracy                           0.66     25442\n",
      "   macro avg       0.65      0.65      0.65     25442\n",
      "weighted avg       0.66      0.66      0.66     25442\n",
      "\n"
     ]
    }
   ],
   "source": [
    "from sklearn.metrics import classification_report\n",
    "print(classification_report(y_pred, y_test))"
   ]
  },
  {
   "cell_type": "markdown",
   "metadata": {},
   "source": [
    "## Accuracy of 66% and AUC 71%. Not a good model but a great benchmark to beat"
   ]
  }
 ],
 "metadata": {
  "kernelspec": {
   "display_name": "Python 3",
   "language": "python",
   "name": "python3"
  },
  "language_info": {
   "codemirror_mode": {
    "name": "ipython",
    "version": 3
   },
   "file_extension": ".py",
   "mimetype": "text/x-python",
   "name": "python",
   "nbconvert_exporter": "python",
   "pygments_lexer": "ipython3",
   "version": "3.8.5"
  }
 },
 "nbformat": 4,
 "nbformat_minor": 4
}
